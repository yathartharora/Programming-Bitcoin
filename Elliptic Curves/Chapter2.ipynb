{
 "cells": [
  {
   "cell_type": "code",
   "execution_count": 8,
   "metadata": {},
   "outputs": [],
   "source": [
    "############## PLEASE RUN THIS CELL FIRST! ###################\n",
    "\n",
    "# import everything and define a test runner function\n",
    "from importlib import reload\n",
    "from helper import run\n",
    "import ecc\n",
    "import helper\n",
    "\n",
    "from ecc import Point"
   ]
  },
  {
   "cell_type": "code",
   "execution_count": 9,
   "metadata": {},
   "outputs": [
    {
     "ename": "ValueError",
     "evalue": "(-1, -2) is not on the curve",
     "output_type": "error",
     "traceback": [
      "\u001b[0;31m---------------------------------------------------------------------------\u001b[0m",
      "\u001b[0;31mValueError\u001b[0m                                Traceback (most recent call last)",
      "\u001b[0;32m<ipython-input-9-7d6a66168b49>\u001b[0m in \u001b[0;36m<module>\u001b[0;34m\u001b[0m\n\u001b[1;32m      1\u001b[0m \u001b[0;32mfrom\u001b[0m \u001b[0mecc\u001b[0m \u001b[0;32mimport\u001b[0m \u001b[0mPoint\u001b[0m\u001b[0;34m\u001b[0m\u001b[0;34m\u001b[0m\u001b[0m\n\u001b[1;32m      2\u001b[0m \u001b[0mp1\u001b[0m \u001b[0;34m=\u001b[0m \u001b[0mPoint\u001b[0m\u001b[0;34m(\u001b[0m\u001b[0;34m-\u001b[0m\u001b[0;36m1\u001b[0m\u001b[0;34m,\u001b[0m \u001b[0;34m-\u001b[0m\u001b[0;36m1\u001b[0m\u001b[0;34m,\u001b[0m \u001b[0;36m5\u001b[0m\u001b[0;34m,\u001b[0m \u001b[0;36m7\u001b[0m\u001b[0;34m)\u001b[0m\u001b[0;34m\u001b[0m\u001b[0;34m\u001b[0m\u001b[0m\n\u001b[0;32m----> 3\u001b[0;31m \u001b[0mp2\u001b[0m \u001b[0;34m=\u001b[0m \u001b[0mPoint\u001b[0m\u001b[0;34m(\u001b[0m\u001b[0;34m-\u001b[0m\u001b[0;36m1\u001b[0m\u001b[0;34m,\u001b[0m \u001b[0;34m-\u001b[0m\u001b[0;36m2\u001b[0m\u001b[0;34m,\u001b[0m \u001b[0;36m5\u001b[0m\u001b[0;34m,\u001b[0m \u001b[0;36m7\u001b[0m\u001b[0;34m)\u001b[0m\u001b[0;34m\u001b[0m\u001b[0;34m\u001b[0m\u001b[0m\n\u001b[0m",
      "\u001b[0;32m~/programmingbitcoin/code-ch02/ecc.py\u001b[0m in \u001b[0;36m__init__\u001b[0;34m(self, x, y, a, b)\u001b[0m\n\u001b[1;32m    134\u001b[0m         \u001b[0;31m# tag::source1[]\u001b[0m\u001b[0;34m\u001b[0m\u001b[0;34m\u001b[0m\u001b[0;34m\u001b[0m\u001b[0m\n\u001b[1;32m    135\u001b[0m         \u001b[0;32mif\u001b[0m \u001b[0mself\u001b[0m\u001b[0;34m.\u001b[0m\u001b[0my\u001b[0m\u001b[0;34m**\u001b[0m\u001b[0;36m2\u001b[0m \u001b[0;34m!=\u001b[0m \u001b[0mself\u001b[0m\u001b[0;34m.\u001b[0m\u001b[0mx\u001b[0m\u001b[0;34m**\u001b[0m\u001b[0;36m3\u001b[0m \u001b[0;34m+\u001b[0m \u001b[0ma\u001b[0m \u001b[0;34m*\u001b[0m \u001b[0mx\u001b[0m \u001b[0;34m+\u001b[0m \u001b[0mb\u001b[0m\u001b[0;34m:\u001b[0m  \u001b[0;31m# <1>\u001b[0m\u001b[0;34m\u001b[0m\u001b[0;34m\u001b[0m\u001b[0m\n\u001b[0;32m--> 136\u001b[0;31m             \u001b[0;32mraise\u001b[0m \u001b[0mValueError\u001b[0m\u001b[0;34m(\u001b[0m\u001b[0;34m'({}, {}) is not on the curve'\u001b[0m\u001b[0;34m.\u001b[0m\u001b[0mformat\u001b[0m\u001b[0;34m(\u001b[0m\u001b[0mx\u001b[0m\u001b[0;34m,\u001b[0m \u001b[0my\u001b[0m\u001b[0;34m)\u001b[0m\u001b[0;34m)\u001b[0m\u001b[0;34m\u001b[0m\u001b[0;34m\u001b[0m\u001b[0m\n\u001b[0m\u001b[1;32m    137\u001b[0m \u001b[0;34m\u001b[0m\u001b[0m\n\u001b[1;32m    138\u001b[0m     \u001b[0;32mdef\u001b[0m \u001b[0m__eq__\u001b[0m\u001b[0;34m(\u001b[0m\u001b[0mself\u001b[0m\u001b[0;34m,\u001b[0m \u001b[0mother\u001b[0m\u001b[0;34m)\u001b[0m\u001b[0;34m:\u001b[0m  \u001b[0;31m# <2>\u001b[0m\u001b[0;34m\u001b[0m\u001b[0;34m\u001b[0m\u001b[0m\n",
      "\u001b[0;31mValueError\u001b[0m: (-1, -2) is not on the curve"
     ]
    }
   ],
   "source": [
    "from ecc import Point\n",
    "p1 = Point(-1, -1, 5, 7)\n",
    "p2 = Point(-1, -2, 5, 7)"
   ]
  },
  {
   "cell_type": "markdown",
   "metadata": {},
   "source": [
    "### Exercise 1\n",
    "\n",
    "Determine which of these points are on the curve \\\\(y^{2}\\\\)=\\\\(x^{3}\\\\)+5x+7:\n",
    "\n",
    "(2,4), (-1,-1), (18,77), (5,7)"
   ]
  },
  {
   "cell_type": "code",
   "execution_count": 10,
   "metadata": {},
   "outputs": [
    {
     "name": "stdout",
     "output_type": "stream",
     "text": [
      "False\n",
      "True\n",
      "True\n",
      "False\n"
     ]
    }
   ],
   "source": [
    "# Exercise 1\n",
    "def oncurve(x,y):\n",
    "    return y**2 == x**3 + 5*x + 7\n",
    "print(oncurve(2,4))\n",
    "print(oncurve(-1,-1))\n",
    "print(oncurve(18,77))\n",
    "print(oncurve(5,7))\n",
    "# (2,4), (-1,-1), (18,77), (5,7)\n",
    "# equation in python is: y**2 == x**3 + 5*x + 7"
   ]
  },
  {
   "cell_type": "markdown",
   "metadata": {},
   "source": [
    "### Exercise 2\n",
    "\n",
    "Write the `__ne__` method for `Point`.\n",
    "\n",
    "#### Make [this test](/edit/code-ch02/ecc.py) pass: `ecc.py:PointTest:test_ne`"
   ]
  },
  {
   "cell_type": "code",
   "execution_count": 18,
   "metadata": {},
   "outputs": [
    {
     "name": "stderr",
     "output_type": "stream",
     "text": [
      ".\n",
      "----------------------------------------------------------------------\n",
      "Ran 1 test in 0.001s\n",
      "\n",
      "OK\n"
     ]
    }
   ],
   "source": [
    "# Exercise 2\n",
    "def __ne__(self, other):\n",
    "    return not (self == other)\n",
    "reload(ecc)\n",
    "run(ecc.PointTest(\"test_ne\"))"
   ]
  },
  {
   "cell_type": "code",
   "execution_count": 19,
   "metadata": {},
   "outputs": [
    {
     "name": "stdout",
     "output_type": "stream",
     "text": [
      "Point(-1,-1)_5_7\n",
      "Point(-1,1)_5_7\n",
      "Point(infinity)\n"
     ]
    }
   ],
   "source": [
    "from ecc import Point\n",
    "p1 = Point(-1, -1, 5, 7)\n",
    "p2 = Point(-1, 1, 5, 7)\n",
    "inf = Point(None, None, 5, 7)\n",
    "print(p1 + inf)\n",
    "print(inf + p2)\n",
    "print(p1 + p2)"
   ]
  },
  {
   "cell_type": "markdown",
   "metadata": {},
   "source": [
    "### Exercise 3\n",
    "\n",
    "Handle the case where the two points are additive inverses. That is, they have the same `x`, but a different `y`, causing a vertical line. This should return the point at infinity.\n",
    "\n",
    "#### Make [this test](/edit/code-ch02/ecc.py) pass: `ecc.py:PointTest:test_add0`"
   ]
  },
  {
   "cell_type": "code",
   "execution_count": 21,
   "metadata": {},
   "outputs": [
    {
     "name": "stderr",
     "output_type": "stream",
     "text": [
      ".\n",
      "----------------------------------------------------------------------\n",
      "Ran 1 test in 0.004s\n",
      "\n",
      "OK\n"
     ]
    }
   ],
   "source": [
    "# Exercise 3\n",
    "def __add__(self, other):  # <2>\n",
    "        if self.a != other.a or self.b != other.b:\n",
    "            raise TypeError('Points {}, {} are not on the same curve'.format\n",
    "            (self, other))\n",
    "\n",
    "        if self.x is None:  # <3>\n",
    "            return other\n",
    "        if other.x is None:  # <4>\n",
    "            return self\n",
    "        # end::source3[]\n",
    "\n",
    "        # Case 1: self.x == other.x, self.y != other.y\n",
    "        # Result is point at infinity\n",
    "        if self.x== other.x and self.y!=other.y:\n",
    "            return self.__class__(None, None, self.a, self.b)\n",
    "\n",
    "        # Case 2: self.x ≠ other.x\n",
    "        # Formula (x3,y3)==(x1,y1)+(x2,y2)\n",
    "        # s=(y2-y1)/(x2-x1)\n",
    "        # x3=s**2-x1-x2\n",
    "        # y3=s*(x1-x3)-y1\n",
    "        if self.x != other.x:\n",
    "            s = (other.y - self.y) / (other.x - self.x)\n",
    "            x = s**2 - self.x - other.x\n",
    "            y = s*(self.x - x) - self.y\n",
    "            return self.__class__(x,y,self.a,self.b)\n",
    "\n",
    "        # Case 3: self == other\n",
    "        # Formula (x3,y3)=(x1,y1)+(x1,y1)\n",
    "        # s=(3*x1**2+a)/(2*y1)\n",
    "        # x3=s**2-2*x1\n",
    "        # y3=s*(x1-x3)-y1\n",
    "        if self==other:\n",
    "            s = (3*self.x**2*self.a)/(2*self.y)\n",
    "            x = s**2 - 2**self.x\n",
    "            y = s*(self.x - x) - self.y\n",
    "            return self.__class__(x,y,self.a,self.b)\n",
    "\n",
    "\n",
    "reload(ecc)\n",
    "run(ecc.PointTest(\"test_add0\"))"
   ]
  },
  {
   "cell_type": "markdown",
   "metadata": {},
   "source": [
    "### Exercise 4\n",
    "\n",
    "For the curve \\\\(y^{2}\\\\)=\\\\(x^{3}\\\\)+5x+7, what is (2,5) + (-1,-1)?"
   ]
  },
  {
   "cell_type": "code",
   "execution_count": 26,
   "metadata": {},
   "outputs": [
    {
     "name": "stdout",
     "output_type": "stream",
     "text": [
      "3.0 -7.0\n"
     ]
    }
   ],
   "source": [
    "# Exercise 4\n",
    "\n",
    "from ecc import Point\n",
    "\n",
    "a = 5\n",
    "b = 7\n",
    "x1, y1 = 2, 5\n",
    "x2, y2 = -1, -1\n",
    "\n",
    "\n",
    "s = (y2 - y1) / (x2 - x1)\n",
    "x3 = s**2 - x2- x1\n",
    "y3 = s*(x1-x3) - y1\n",
    "print(x3,y3)\n",
    "\n",
    "# (x1,y1) + (x2,y2)"
   ]
  },
  {
   "cell_type": "markdown",
   "metadata": {},
   "source": [
    "### Exercise 5\n",
    "\n",
    "Write the `__add__` method where \\\\(x_{1}\\\\)≠\\\\(x_{2}\\\\)\n",
    "\n",
    "#### Make [this test](/edit/code-ch02/ecc.py) pass: `ecc.py:PointTest:test_add1`"
   ]
  },
  {
   "cell_type": "code",
   "execution_count": 27,
   "metadata": {},
   "outputs": [
    {
     "name": "stderr",
     "output_type": "stream",
     "text": [
      ".\n",
      "----------------------------------------------------------------------\n",
      "Ran 1 test in 0.002s\n",
      "\n",
      "OK\n"
     ]
    }
   ],
   "source": [
    "# Exercise 5\n",
    "def __add__(self, other):\n",
    "    if self.a != other.a or self.b != other.b:\n",
    "        raise TypeError\n",
    "    if self.x is None:\n",
    "        return other\n",
    "    if other.x is None:\n",
    "        return self\n",
    "    # tag::answer3[]\n",
    "    if self.x == other.x and self.y != other.y:\n",
    "        return self.__class__(None, None, self.a, self.b)\n",
    "    # end::answer3[]\n",
    "    # tag::answer5[]\n",
    "    if self.x != other.x:\n",
    "        s = (other.y - self.y) / (other.x - self.x)\n",
    "        x = s**2 - self.x - other.x\n",
    "        y = s * (self.x - x) - self.y\n",
    "        return self.__class__(x, y, self.a, self.b)\n",
    "    # end::answer5[]\n",
    "    if self == other and self.y == 0 * self.x:\n",
    "        return self.__class__(None, None, self.a, self.b)\n",
    "    # tag::answer7[]\n",
    "    if self == other:\n",
    "        s = (3 * self.x**2 + self.a) / (2 * self.y)\n",
    "        x = s**2 - 2 * self.x\n",
    "        y = s * (self.x - x) - self.y\n",
    "        return self.__class__(x, y, self.a, self.b)\n",
    "reload(ecc)\n",
    "run(ecc.PointTest(\"test_add1\"))"
   ]
  },
  {
   "cell_type": "markdown",
   "metadata": {},
   "source": [
    "### Exercise 6\n",
    "\n",
    "For the curve \\\\(y^{2}\\\\)=\\\\(x^{3}\\\\)+5x+7, what is (-1,-1) + (-1,-1)?"
   ]
  },
  {
   "cell_type": "code",
   "execution_count": 28,
   "metadata": {},
   "outputs": [
    {
     "name": "stdout",
     "output_type": "stream",
     "text": [
      "18.0 77.0\n"
     ]
    }
   ],
   "source": [
    "# Exercise 6\n",
    "\n",
    "from ecc import Point\n",
    "\n",
    "a = 5\n",
    "b = 7\n",
    "x1, y1 = -1, -1\n",
    "\n",
    "s = (3*x1**2 + 5)/(2*y1)\n",
    "x2 = s**2 - 2 * x1\n",
    "y2 = s * (x1 - x2) - y1\n",
    "print(x2,y2)\n",
    "# (-1,-1) + (-1,-1)"
   ]
  },
  {
   "cell_type": "markdown",
   "metadata": {},
   "source": [
    "### Exercise 7\n",
    "\n",
    "Write the `__add__` method when \\\\(P_{1}\\\\)=\\\\(P_{2}\\\\).\n",
    "\n",
    "#### Make [this test](/edit/code-ch02/ecc.py) pass: `ecc.py:PointTest:test_add2`"
   ]
  },
  {
   "cell_type": "code",
   "execution_count": 30,
   "metadata": {},
   "outputs": [
    {
     "name": "stderr",
     "output_type": "stream",
     "text": [
      "E\n",
      "======================================================================\n",
      "ERROR: test_add2 (ecc.PointTest)\n",
      "----------------------------------------------------------------------\n",
      "Traceback (most recent call last):\n",
      "  File \"/Users/yathartharora/programmingbitcoin/code-ch02/ecc.py\", line 216, in test_add2\n",
      "    self.assertEqual(a + a, Point(x=18, y=77, a=5, b=7))\n",
      "  File \"/Users/yathartharora/programmingbitcoin/code-ch02/ecc.py\", line 190, in __add__\n",
      "    return self.__class__(x,y,self.a,self.b)\n",
      "  File \"/Users/yathartharora/programmingbitcoin/code-ch02/ecc.py\", line 136, in __init__\n",
      "    raise ValueError('({}, {}) is not on the curve'.format(x, y))\n",
      "ValueError: (58.25, 445.375) is not on the curve\n",
      "\n",
      "----------------------------------------------------------------------\n",
      "Ran 1 test in 0.002s\n",
      "\n",
      "FAILED (errors=1)\n"
     ]
    }
   ],
   "source": [
    "# Exercise 7\n",
    "def __add__(self, other):\n",
    "    if self.a != other.a or self.b != other.b:\n",
    "        raise TypeError\n",
    "    if self.x is None:\n",
    "        return other\n",
    "    if other.x is None:\n",
    "        return self\n",
    "    # tag::answer3[]\n",
    "    if self.x == other.x and self.y != other.y:\n",
    "        return self.__class__(None, None, self.a, self.b)\n",
    "    # end::answer3[]\n",
    "    # tag::answer5[]\n",
    "    if self.x != other.x:\n",
    "        s = (other.y - self.y) / (other.x - self.x)\n",
    "        x = s**2 - self.x - other.x\n",
    "        y = s * (self.x - x) - self.y\n",
    "        return self.__class__(x, y, self.a, self.b)\n",
    "    # end::answer5[]\n",
    "    if self == other and self.y == 0 * self.x:\n",
    "        return self.__class__(None, None, self.a, self.b)\n",
    "    # tag::answer7[]\n",
    "    if self == other:\n",
    "        s = (3 * self.x**2 + self.a) / (2 * self.y)\n",
    "        x = s**2 - 2 * self.x\n",
    "        y = s * (self.x - x) - self.y\n",
    "        return self.__class__(x, y, self.a, self.b)\n",
    "\n",
    "reload(ecc)\n",
    "run(ecc.PointTest(\"test_add2\"))"
   ]
  },
  {
   "cell_type": "code",
   "execution_count": null,
   "metadata": {},
   "outputs": [],
   "source": []
  }
 ],
 "metadata": {
  "kernelspec": {
   "display_name": "Python 3",
   "language": "python",
   "name": "python3"
  },
  "language_info": {
   "codemirror_mode": {
    "name": "ipython",
    "version": 3
   },
   "file_extension": ".py",
   "mimetype": "text/x-python",
   "name": "python",
   "nbconvert_exporter": "python",
   "pygments_lexer": "ipython3",
   "version": "3.7.9"
  }
 },
 "nbformat": 4,
 "nbformat_minor": 2
}
